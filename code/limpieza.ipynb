{
 "cells": [
  {
   "cell_type": "markdown",
   "metadata": {},
   "source": [
    "Descarga Y limpieza de los datos"
   ]
  },
  {
   "cell_type": "markdown",
   "metadata": {},
   "source": [
    "Importamos las Paqueterías necesarias"
   ]
  },
  {
   "cell_type": "code",
   "execution_count": 279,
   "metadata": {},
   "outputs": [],
   "source": [
    "import pandas as pd\n",
    "import numpy as np"
   ]
  },
  {
   "cell_type": "markdown",
   "metadata": {},
   "source": [
    "Definimos el path del archivo"
   ]
  },
  {
   "cell_type": "code",
   "execution_count": 280,
   "metadata": {},
   "outputs": [],
   "source": [
    "# Define the file path\n",
    "file_path = '../data/raw/train.csv'\n"
   ]
  },
  {
   "cell_type": "markdown",
   "metadata": {},
   "source": [
    "Leemos el archivo, y nos damos una brebe idea de los datos"
   ]
  },
  {
   "cell_type": "code",
   "execution_count": 281,
   "metadata": {},
   "outputs": [
    {
     "name": "stdout",
     "output_type": "stream",
     "text": [
      "   Id  MSSubClass MSZoning  LotFrontage  LotArea Street Alley LotShape  \\\n",
      "0   1          60       RL         65.0     8450   Pave   NaN      Reg   \n",
      "1   2          20       RL         80.0     9600   Pave   NaN      Reg   \n",
      "2   3          60       RL         68.0    11250   Pave   NaN      IR1   \n",
      "3   4          70       RL         60.0     9550   Pave   NaN      IR1   \n",
      "4   5          60       RL         84.0    14260   Pave   NaN      IR1   \n",
      "\n",
      "  LandContour Utilities  ... PoolArea PoolQC Fence MiscFeature MiscVal MoSold  \\\n",
      "0         Lvl    AllPub  ...        0    NaN   NaN         NaN       0      2   \n",
      "1         Lvl    AllPub  ...        0    NaN   NaN         NaN       0      5   \n",
      "2         Lvl    AllPub  ...        0    NaN   NaN         NaN       0      9   \n",
      "3         Lvl    AllPub  ...        0    NaN   NaN         NaN       0      2   \n",
      "4         Lvl    AllPub  ...        0    NaN   NaN         NaN       0     12   \n",
      "\n",
      "  YrSold  SaleType  SaleCondition  SalePrice  \n",
      "0   2008        WD         Normal     208500  \n",
      "1   2007        WD         Normal     181500  \n",
      "2   2008        WD         Normal     223500  \n",
      "3   2006        WD        Abnorml     140000  \n",
      "4   2008        WD         Normal     250000  \n",
      "\n",
      "[5 rows x 81 columns]\n"
     ]
    }
   ],
   "source": [
    "# Read the CSV file\n",
    "data = pd.read_csv(file_path)\n",
    "\n",
    "# Display the first few rows of the dataframe\n",
    "print(data.head())"
   ]
  },
  {
   "cell_type": "markdown",
   "metadata": {},
   "source": [
    "Buscamos columnas con valores faltantes"
   ]
  },
  {
   "cell_type": "code",
   "execution_count": 282,
   "metadata": {},
   "outputs": [
    {
     "name": "stdout",
     "output_type": "stream",
     "text": [
      "LotFrontage      259\n",
      "Alley           1369\n",
      "MasVnrType       872\n",
      "MasVnrArea         8\n",
      "BsmtQual          37\n",
      "BsmtCond          37\n",
      "BsmtExposure      38\n",
      "BsmtFinType1      37\n",
      "BsmtFinType2      38\n",
      "Electrical         1\n",
      "FireplaceQu      690\n",
      "GarageType        81\n",
      "GarageYrBlt       81\n",
      "GarageFinish      81\n",
      "GarageQual        81\n",
      "GarageCond        81\n",
      "PoolQC          1453\n",
      "Fence           1179\n",
      "MiscFeature     1406\n",
      "dtype: int64\n"
     ]
    }
   ],
   "source": [
    "print(data.isnull().sum()[data.isnull().sum() > 0])"
   ]
  },
  {
   "cell_type": "markdown",
   "metadata": {},
   "source": [
    "Siguiendo la descripcion de los datos, hay variables cuyos valores faltantes son 0\n",
    ":LotFrontage, MasVnrArea, GarageYrBlt, mas no requieren otro tipo de ingienería de variables. Por lo que definiremos una funccion que rellee valores faltantes con 0."
   ]
  },
  {
   "cell_type": "code",
   "execution_count": 283,
   "metadata": {},
   "outputs": [],
   "source": [
    "def reemplazar_nan_por_cero(dataframe, columna):\n",
    "    dataframe[columna] = dataframe[columna].fillna(0)"
   ]
  },
  {
   "cell_type": "markdown",
   "metadata": {},
   "source": [
    "Y se los aplicaremos a las variables adecuadas"
   ]
  },
  {
   "cell_type": "code",
   "execution_count": 284,
   "metadata": {},
   "outputs": [],
   "source": [
    "# Ejecutar la función para las columnas mencionadas\n",
    "columnas_a_reemplazar = ['LotFrontage', 'MasVnrArea', 'GarageYrBlt']\n",
    "for columna in columnas_a_reemplazar:\n",
    "    reemplazar_nan_por_cero(data, columna)"
   ]
  },
  {
   "cell_type": "markdown",
   "metadata": {},
   "source": [
    "Realizamos un mapeo de las variables ordinales a numéricas:"
   ]
  },
  {
   "cell_type": "code",
   "execution_count": 285,
   "metadata": {},
   "outputs": [],
   "source": [
    "# Mapeo para cada variable categórica\n",
    "\n",
    "# Alley\n",
    "mapeo_alley = {np.nan: 0, 'Grvl': 1, 'Pave': 2}\n",
    "data['Alley'] = data['Alley'].map(mapeo_alley)\n",
    "\n",
    "# MasVnrType\n",
    "mapeo_masvnr = {np.nan: 0, 'BrkFace': 1, 'Stone': 2, 'BrkCmn': 3, 'None': 4}\n",
    "data['MasVnrType'] = data['MasVnrType'].map(mapeo_masvnr)\n",
    "\n",
    "# BsmtQual\n",
    "mapeo_bsmtqual = {np.nan: 0, 'Ex': 5, 'Gd': 4, 'TA': 3, 'Fa': 2, 'Po': 1}\n",
    "data['BsmtQual'] = data['BsmtQual'].map(mapeo_bsmtqual)\n",
    "\n",
    "# BsmtCond\n",
    "mapeo_bsmtcond = {np.nan: 0, 'Ex': 5, 'Gd': 4, 'TA': 3, 'Fa': 2, 'Po': 1}\n",
    "data['BsmtCond'] = data['BsmtCond'].map(mapeo_bsmtcond)\n",
    "\n",
    "# BsmtExposure\n",
    "mapeo_bsmtexposure = {np.nan: 0, 'Gd': 4, 'Av': 3, 'Mn': 2, 'No': 1}\n",
    "data['BsmtExposure'] = data['BsmtExposure'].map(mapeo_bsmtexposure)\n",
    "\n",
    "# BsmtFinType1\n",
    "mapeo_bsmttype1 = {np.nan: 0, 'GLQ': 6, 'ALQ': 5, 'BLQ': 4, 'Rec': 3, 'LwQ': 2, 'Unf': 1}\n",
    "data['BsmtFinType1'] = data['BsmtFinType1'].map(mapeo_bsmttype1)\n",
    "\n",
    "# BsmtFinType2\n",
    "mapeo_bsmttype2 = {np.nan: 0, 'GLQ': 6, 'ALQ': 5, 'BLQ': 4, 'Rec': 3, 'LwQ': 2, 'Unf': 1}\n",
    "data['BsmtFinType2'] = data['BsmtFinType2'].map(mapeo_bsmttype2)\n",
    "\n",
    "# Electrical\n",
    "mapeo_electrical = {np.nan: 0, 'SBrkr': 1, 'FuseA': 2, 'FuseF': 3, 'FuseP': 4, 'Mix': 5}\n",
    "data['Electrical'] = data['Electrical'].map(mapeo_electrical)\n",
    "\n",
    "# FireplaceQu\n",
    "mapeo_fireplace = {np.nan: 0, 'Po': 1, 'Fa': 2, 'TA': 3, 'Gd': 4, 'Ex': 5}\n",
    "data['FireplaceQu'] = data['FireplaceQu'].map(mapeo_fireplace)\n",
    "\n",
    "# GarageType\n",
    "mapeo_garagetype = {np.nan: 0, 'Attchd': 1, 'Detchd': 2, 'BuiltIn': 3, 'CarPort': 4, 'Basment': 5}\n",
    "data['GarageType'] = data['GarageType'].map(mapeo_garagetype)\n",
    "\n",
    "# GarageFinish\n",
    "mapeo_garagefinish = {np.nan: 0, 'Fin': 1, 'RFn': 2, 'Unf': 3}\n",
    "data['GarageFinish'] = data['GarageFinish'].map(mapeo_garagefinish)\n",
    "\n",
    "# GarageQual\n",
    "mapeo_garagequal = {np.nan: 0, 'Ex': 5, 'Gd': 4, 'TA': 3, 'Fa': 2, 'Po': 1}\n",
    "data['GarageQual'] = data['GarageQual'].map(mapeo_garagequal)\n",
    "\n",
    "# GarageCond\n",
    "mapeo_garagecond = {np.nan: 0, 'Ex': 5, 'Gd': 4, 'TA': 3, 'Fa': 2, 'Po': 1}\n",
    "data['GarageCond'] = data['GarageCond'].map(mapeo_garagecond)\n",
    "\n",
    "# PoolQC\n",
    "mapeo_poolqc = {np.nan: 0, 'Ex': 5, 'Gd': 4, 'TA': 3, 'Fa': 2, 'Po': 1}\n",
    "data['PoolQC'] = data['PoolQC'].map(mapeo_poolqc)\n",
    "\n",
    "# Fence\n",
    "mapeo_fence = {np.nan: 0, 'GdPrv': 1, 'MnPrv': 2, 'GdWo': 3, 'MnWo': 4, 'MnWw': 5}\n",
    "data['Fence'] = data['Fence'].map(mapeo_fence)\n",
    "\n",
    "# MiscFeature\n",
    "mapeo_misc_feature = {np.nan: 0, 'Elev': 1, 'Gar2': 1, 'Othr': 1, 'Shed': 1, 'TenC': 1, 'NA': 0}\n",
    "data['MiscFeature'] = data['MiscFeature'].map(mapeo_misc_feature)\n",
    "\n",
    "# ExterQual\n",
    "mapeo_exterqual = {'Fa': 1, 'TA': 2, 'Gd': 3, 'Ex': 4}\n",
    "data['ExterQual'] = data['ExterQual'].map(mapeo_exterqual)\n",
    "\n",
    "# ExterCond\n",
    "mapeo_extercond = {'Po': 1, 'Fa': 2, 'TA': 3, 'Gd': 4, 'Ex': 5}\n",
    "data['ExterCond'] = data['ExterCond'].map(mapeo_extercond)\n",
    "\n",
    "# HeatingQC\n",
    "mapeo_heatingqc = {'Po': 1, 'Fa': 2, 'TA': 3, 'Gd': 4, 'Ex': 5}\n",
    "data['HeatingQC'] = data['HeatingQC'].map(mapeo_heatingqc)\n",
    "\n",
    "# KitchenQual\n",
    "mapeo_kitchenqual = {'Ex': 5, 'Gd': 4, 'TA': 3, 'Fa': 2, 'Po': 1}\n",
    "data['KitchenQual'] = data['KitchenQual'].map(mapeo_kitchenqual)\n",
    "\n",
    "# CentralAir\n",
    "mapeo_centralair = {'Y': 1, 'N': 0}\n",
    "data['CentralAir'] = data['CentralAir'].map(mapeo_centralair)\n",
    "\n",
    "# PavedDrive\n",
    "mapeo_paveddrive = {'Y': 1, 'N': 0, 'P': 0}  # Asumiendo que 'P' es una variante de 'N' que representa pavimento parcial.\n",
    "data['PavedDrive'] = data['PavedDrive'].map(mapeo_paveddrive)"
   ]
  },
  {
   "cell_type": "markdown",
   "metadata": {},
   "source": [
    "Garagetype dio roblemas, asi que se realizo de maner diferente"
   ]
  },
  {
   "cell_type": "code",
   "execution_count": 286,
   "metadata": {},
   "outputs": [],
   "source": [
    "# Reemplazar los NaN previos con un valor, por ejemplo, 0\n",
    "data['GarageType'] = data['GarageType'].fillna(np.nan)\n",
    "\n",
    "# Mapeo de los valores de GarageType\n",
    "mapeo_garage_type = {\n",
    "    np.nan: 0,         # No garage (se convierte en 0)\n",
    "    'Detchd': 2,       # Detached from home\n",
    "    'BuiltIn': 3,      # Built-In (Garage part of house)\n",
    "    'CarPort': 4,      # Car Port\n",
    "    'Basment': 5,      # Basement Garage\n",
    "    'Attchd': 6,       # Attached to home\n",
    "    '2Types': 7        # More than one type of garage\n",
    "}\n",
    "\n",
    "# Aplicar el mapeo\n",
    "data['GarageType'] = data['GarageType'].map(mapeo_garage_type).fillna(0)\n"
   ]
  },
  {
   "cell_type": "markdown",
   "metadata": {},
   "source": [
    "verificamos si aun quedan variables categóricas, y reaizamos un one hot encoding"
   ]
  },
  {
   "cell_type": "code",
   "execution_count": 287,
   "metadata": {},
   "outputs": [
    {
     "name": "stdout",
     "output_type": "stream",
     "text": [
      "Index(['MSZoning', 'Street', 'LotShape', 'LandContour', 'Utilities',\n",
      "       'LotConfig', 'LandSlope', 'Neighborhood', 'Condition1', 'Condition2',\n",
      "       'BldgType', 'HouseStyle', 'RoofStyle', 'RoofMatl', 'Exterior1st',\n",
      "       'Exterior2nd', 'Foundation', 'Heating', 'Functional', 'SaleType',\n",
      "       'SaleCondition'],\n",
      "      dtype='object')\n"
     ]
    }
   ],
   "source": [
    "non_numeric_columns = data.select_dtypes(exclude=['number']).columns\n",
    "print(non_numeric_columns)"
   ]
  },
  {
   "cell_type": "code",
   "execution_count": 288,
   "metadata": {},
   "outputs": [],
   "source": [
    "# Seleccionar las variables no numéricas\n",
    "non_numeric_columns = ['MSZoning', 'Street', 'LotShape', 'LandContour', 'Utilities',\n",
    "                       'LotConfig', 'LandSlope', 'Neighborhood', 'Condition1', 'Condition2',\n",
    "                       'BldgType', 'HouseStyle', 'RoofStyle', 'RoofMatl', 'Exterior1st',\n",
    "                       'Exterior2nd', 'Foundation', 'Functional', 'SaleType', 'SaleCondition']\n",
    "\n",
    "# Aplicar One-Hot Encoding\n",
    "data = pd.get_dummies(data, columns=non_numeric_columns, drop_first=True)\n"
   ]
  },
  {
   "cell_type": "markdown",
   "metadata": {},
   "source": [
    "Finalmente, por si aún tenemos algun dato faltante, lo remplazamos con a media de la categoría."
   ]
  },
  {
   "cell_type": "code",
   "execution_count": 289,
   "metadata": {},
   "outputs": [],
   "source": [
    "def reemplazar_nan_por_moda(dataframe):\n",
    "    for columna in dataframe.columns:\n",
    "        if dataframe[columna].isnull().sum() > 0:\n",
    "            moda = dataframe[columna].mode()[0]  # Obtener la moda\n",
    "            dataframe[columna] = dataframe[columna].fillna(moda)  # Reemplazar NaN por la moda\n",
    "    return dataframe\n",
    "\n",
    "# Aplicar la función a tu dataframe\n",
    "data = reemplazar_nan_por_moda(data)\n"
   ]
  },
  {
   "cell_type": "markdown",
   "metadata": {},
   "source": [
    "Verificamos si queda alguna variable tipo objeto"
   ]
  },
  {
   "cell_type": "code",
   "execution_count": 290,
   "metadata": {},
   "outputs": [
    {
     "name": "stdout",
     "output_type": "stream",
     "text": [
      "Index(['Heating'], dtype='object')\n"
     ]
    }
   ],
   "source": [
    "# Verificar las columnas de tipo 'object' (texto) en el DataFrame\n",
    "object_columns = data.select_dtypes(include=['object']).columns\n",
    "\n",
    "# Mostrar las columnas de tipo 'object'\n",
    "print(object_columns)"
   ]
  },
  {
   "cell_type": "markdown",
   "metadata": {},
   "source": [
    "Y le aplicamos \"a la fuerza\" un Label Encoder a la variable Heating, que resultó la única que quedaba como objeto."
   ]
  },
  {
   "cell_type": "code",
   "execution_count": 291,
   "metadata": {},
   "outputs": [],
   "source": [
    "# Usar LabelEncoder para la columna 'Heating'\n",
    "label_encoder = LabelEncoder()\n",
    "data['Heating'] = label_encoder.fit_transform(data['Heating'])\n",
    "\n",
    "# Verificar si hay valores NaN y reemplazarlos si es necesario\n",
    "data = data.fillna(data.mode().iloc[0])\n"
   ]
  },
  {
   "cell_type": "markdown",
   "metadata": {},
   "source": [
    "Verificamos si queda alguna variable tipo objeto"
   ]
  },
  {
   "cell_type": "code",
   "execution_count": 292,
   "metadata": {},
   "outputs": [
    {
     "name": "stdout",
     "output_type": "stream",
     "text": [
      "Index([], dtype='object')\n"
     ]
    }
   ],
   "source": [
    "# Verificar las columnas de tipo 'object' (texto) en el DataFrame\n",
    "object_columns = data.select_dtypes(include=['object']).columns\n",
    "\n",
    "# Mostrar las columnas de tipo 'object'\n",
    "print(object_columns)"
   ]
  },
  {
   "cell_type": "markdown",
   "metadata": {},
   "source": [
    "y listo, guardamos el set limpio de datos"
   ]
  },
  {
   "cell_type": "code",
   "execution_count": 293,
   "metadata": {},
   "outputs": [],
   "source": [
    "# Guardar el dataframe preprocesado en un archivo CSV, en la carpeta ../data/processed  \n",
    "data.to_csv('../data/processed/preprocessed_data.csv', index=False)\n"
   ]
  }
 ],
 "metadata": {
  "kernelspec": {
   "display_name": "Python 3",
   "language": "python",
   "name": "python3"
  },
  "language_info": {
   "codemirror_mode": {
    "name": "ipython",
    "version": 3
   },
   "file_extension": ".py",
   "mimetype": "text/x-python",
   "name": "python",
   "nbconvert_exporter": "python",
   "pygments_lexer": "ipython3",
   "version": "3.13.1"
  }
 },
 "nbformat": 4,
 "nbformat_minor": 2
}
